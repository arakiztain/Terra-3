{
 "cells": [
  {
   "cell_type": "markdown",
   "id": "7cbdd4b5",
   "metadata": {},
   "source": [
    "# Hola Iñigo"
   ]
  }
 ],
 "metadata": {
  "language_info": {
   "name": "python"
  }
 },
 "nbformat": 4,
 "nbformat_minor": 5
}
