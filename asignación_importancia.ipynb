{
 "cells": [
  {
   "cell_type": "markdown",
   "id": "ac388d49",
   "metadata": {},
   "source": [
    "# Asignamos la urgencia del issue "
   ]
  },
  {
   "cell_type": "code",
   "execution_count": 2,
   "id": "41590ea6",
   "metadata": {},
   "outputs": [],
   "source": [
    "import numpy as np\n",
    "import pandas as pd"
   ]
  },
  {
   "cell_type": "code",
   "execution_count": 3,
   "id": "367e4822",
   "metadata": {},
   "outputs": [],
   "source": [
    "df = pd.read_csv(\"ISSUES_Iteraciones.csv\")"
   ]
  },
  {
   "cell_type": "code",
   "execution_count": null,
   "id": "98868928",
   "metadata": {},
   "outputs": [],
   "source": []
  }
 ],
 "metadata": {
  "kernelspec": {
   "display_name": "Python 3",
   "language": "python",
   "name": "python3"
  },
  "language_info": {
   "codemirror_mode": {
    "name": "ipython",
    "version": 3
   },
   "file_extension": ".py",
   "mimetype": "text/x-python",
   "name": "python",
   "nbconvert_exporter": "python",
   "pygments_lexer": "ipython3",
   "version": "3.11.9"
  }
 },
 "nbformat": 4,
 "nbformat_minor": 5
}
