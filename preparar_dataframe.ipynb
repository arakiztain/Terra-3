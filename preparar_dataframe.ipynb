{
 "cells": [
  {
   "cell_type": "markdown",
   "id": "27eb7de7",
   "metadata": {},
   "source": [
    "# Limpieza y creación del dataframe"
   ]
  },
  {
   "cell_type": "code",
   "execution_count": 18,
   "id": "88551baa",
   "metadata": {},
   "outputs": [],
   "source": [
    "import numpy as np\n",
    "import pandas as pd\n",
    "import sqlite3\n",
    "import os"
   ]
  },
  {
   "cell_type": "code",
   "execution_count": 45,
   "id": "c52ea8ec",
   "metadata": {},
   "outputs": [],
   "source": [
    "np.random.seed(42)"
   ]
  },
  {
   "cell_type": "code",
   "execution_count": 3,
   "id": "b9a03be1",
   "metadata": {},
   "outputs": [],
   "source": [
    "connection = sqlite3.connect(\"data/BDTerra.db\")"
   ]
  },
  {
   "cell_type": "code",
   "execution_count": 4,
   "id": "1915929a",
   "metadata": {},
   "outputs": [],
   "source": [
    "crsr = connection.cursor()"
   ]
  },
  {
   "cell_type": "code",
   "execution_count": 5,
   "id": "99084ba5",
   "metadata": {},
   "outputs": [],
   "source": [
    "def sql_query(query):    # Ejecuta la query\n",
    "    crsr.execute(query)    # Almacena los datos de la query\n",
    "    ans = crsr.fetchall()    # Obtenemos los nombres de las columnas de la tabla\n",
    "    names = [description[0] for description in crsr.description]    \n",
    "    return pd.DataFrame(ans,columns=names)"
   ]
  },
  {
   "cell_type": "code",
   "execution_count": null,
   "id": "f353be7c",
   "metadata": {},
   "outputs": [],
   "source": [
    "query1 = \"\"\"\n",
    "SELECT Request\n",
    "FROM ISSUES\n",
    "\"\"\""
   ]
  },
  {
   "cell_type": "code",
   "execution_count": 10,
   "id": "d24a6727",
   "metadata": {},
   "outputs": [],
   "source": [
    "df = sql_query(query1)"
   ]
  },
  {
   "cell_type": "code",
   "execution_count": 13,
   "id": "32aa4fe6",
   "metadata": {},
   "outputs": [
    {
     "data": {
      "text/plain": [
       "Index(['Issue ID', 'Project ID', 'Classification', 'Screenshot', 'Urgency',\n",
       "       'Input Date', 'Deadline Theor', 'Deadline Real', 'Employee ID',\n",
       "       'Device ', 'Browser', 'Page', 'Contact ID', 'Request'],\n",
       "      dtype='object')"
      ]
     },
     "execution_count": 13,
     "metadata": {},
     "output_type": "execute_result"
    }
   ],
   "source": [
    "df.columns"
   ]
  },
  {
   "cell_type": "code",
   "execution_count": 15,
   "id": "4382d292",
   "metadata": {},
   "outputs": [],
   "source": [
    "df.sort_values(by = \"Issue ID\", inplace=True)"
   ]
  },
  {
   "cell_type": "code",
   "execution_count": null,
   "id": "0819b5e0",
   "metadata": {},
   "outputs": [
    {
     "data": {
      "application/vnd.microsoft.datawrangler.viewer.v0+json": {
       "columns": [
        {
         "name": "index",
         "rawType": "int64",
         "type": "integer"
        },
        {
         "name": "Classification",
         "rawType": "object",
         "type": "string"
        },
        {
         "name": "Request",
         "rawType": "object",
         "type": "string"
        }
       ],
       "ref": "aa3f866f-01d1-4672-950c-169be726b157",
       "rows": [
        [
         "3855",
         "Design issues",
         "The spacing around section titles [645] should use more consistent iconography."
        ],
        [
         "622",
         "Copy issues",
         "Please rewrite for clarity the CTA button label — SEO team suggested including 'digital strategy'."
        ],
        [
         "4500",
         "New item",
         "Please add a FAQs segmented by user type, to meet regulatory compliance."
        ],
        [
         "4555",
         "New item",
         "Please add a customizable data visualization blocks, as part of SEO improvement strategy."
        ],
        [
         "620",
         "Copy issues",
         "Please emphasize benefits over features the Careers page intro — align this with what we say in the sales deck."
        ]
       ],
       "shape": {
        "columns": 2,
        "rows": 5
       }
      },
      "text/html": [
       "<div>\n",
       "<style scoped>\n",
       "    .dataframe tbody tr th:only-of-type {\n",
       "        vertical-align: middle;\n",
       "    }\n",
       "\n",
       "    .dataframe tbody tr th {\n",
       "        vertical-align: top;\n",
       "    }\n",
       "\n",
       "    .dataframe thead th {\n",
       "        text-align: right;\n",
       "    }\n",
       "</style>\n",
       "<table border=\"1\" class=\"dataframe\">\n",
       "  <thead>\n",
       "    <tr style=\"text-align: right;\">\n",
       "      <th></th>\n",
       "      <th>Classification</th>\n",
       "      <th>Request</th>\n",
       "    </tr>\n",
       "  </thead>\n",
       "  <tbody>\n",
       "    <tr>\n",
       "      <th>3855</th>\n",
       "      <td>Design issues</td>\n",
       "      <td>The spacing around section titles [645] should...</td>\n",
       "    </tr>\n",
       "    <tr>\n",
       "      <th>622</th>\n",
       "      <td>Copy issues</td>\n",
       "      <td>Please rewrite for clarity the CTA button labe...</td>\n",
       "    </tr>\n",
       "    <tr>\n",
       "      <th>4500</th>\n",
       "      <td>New item</td>\n",
       "      <td>Please add a FAQs segmented by user type, to m...</td>\n",
       "    </tr>\n",
       "    <tr>\n",
       "      <th>4555</th>\n",
       "      <td>New item</td>\n",
       "      <td>Please add a customizable data visualization b...</td>\n",
       "    </tr>\n",
       "    <tr>\n",
       "      <th>620</th>\n",
       "      <td>Copy issues</td>\n",
       "      <td>Please emphasize benefits over features the Ca...</td>\n",
       "    </tr>\n",
       "  </tbody>\n",
       "</table>\n",
       "</div>"
      ],
      "text/plain": [
       "     Classification                                            Request\n",
       "3855  Design issues  The spacing around section titles [645] should...\n",
       "622     Copy issues  Please rewrite for clarity the CTA button labe...\n",
       "4500       New item  Please add a FAQs segmented by user type, to m...\n",
       "4555       New item  Please add a customizable data visualization b...\n",
       "620     Copy issues  Please emphasize benefits over features the Ca..."
      ]
     },
     "execution_count": 17,
     "metadata": {},
     "output_type": "execute_result"
    }
   ],
   "source": [
    "df[df[\"Classification\"] == ][\"Classification\",\"Request\"].head()"
   ]
  },
  {
   "cell_type": "code",
   "execution_count": 28,
   "id": "3fe3e486",
   "metadata": {},
   "outputs": [
    {
     "data": {
      "text/plain": [
       "array(['Design issues', 'Copy issues', 'New item', 'Request change',\n",
       "       'Not addressing', 'Bug fix'], dtype=object)"
      ]
     },
     "execution_count": 28,
     "metadata": {},
     "output_type": "execute_result"
    }
   ],
   "source": [
    "df[\"Classification\"].unique()"
   ]
  },
  {
   "cell_type": "code",
   "execution_count": 32,
   "id": "f7fefb7d",
   "metadata": {},
   "outputs": [],
   "source": [
    "iteraciones_medias = {\n",
    "    \"Copy issues\": (4,1),\n",
    "    \"Request change\": (8,2),\n",
    "    \"Design issues\": (4,2),\n",
    "    \"New item\": (10,4),\n",
    "    \"Bug fix\": (8,3),\n",
    "    \"Not addressing\": (1,0.2)\n",
    "}"
   ]
  },
  {
   "cell_type": "code",
   "execution_count": 33,
   "id": "9b2ba375",
   "metadata": {},
   "outputs": [],
   "source": [
    "def genera_iteraciones(clase):\n",
    "    for i in df[\"Classification\"].unique():\n",
    "        if clase == i:\n",
    "            med = iteraciones_medias[i][0]\n",
    "            var = iteraciones_medias[i][1]\n",
    "            return np.random.normal(med,var)"
   ]
  },
  {
   "cell_type": "code",
   "execution_count": 34,
   "id": "ca2164c2",
   "metadata": {},
   "outputs": [],
   "source": [
    "it = []\n",
    "for i in df[\"Classification\"]:\n",
    "    it.append(genera_iteraciones(i))"
   ]
  },
  {
   "cell_type": "code",
   "execution_count": 41,
   "id": "6aba2ad8",
   "metadata": {},
   "outputs": [],
   "source": [
    "it = np.trunc(it).astype(\"uint8\")"
   ]
  },
  {
   "cell_type": "code",
   "execution_count": 42,
   "id": "b7d6c303",
   "metadata": {},
   "outputs": [],
   "source": [
    "df[\"Iteraciones\"] = it"
   ]
  },
  {
   "cell_type": "code",
   "execution_count": 44,
   "id": "673ff59f",
   "metadata": {},
   "outputs": [
    {
     "data": {
      "application/vnd.microsoft.datawrangler.viewer.v0+json": {
       "columns": [
        {
         "name": "Iteraciones",
         "rawType": "uint8",
         "type": "integer"
        },
        {
         "name": "proportion",
         "rawType": "float64",
         "type": "float"
        }
       ],
       "ref": "6e77ecc7-9c37-4ca6-8bc0-60b7bf88f052",
       "rows": [
        [
         "4",
         "0.22035087719298246"
        ],
        [
         "3",
         "0.21140350877192982"
        ],
        [
         "5",
         "0.12842105263157894"
        ],
        [
         "2",
         "0.0931578947368421"
        ],
        [
         "6",
         "0.07245614035087719"
        ],
        [
         "1",
         "0.05771929824561404"
        ],
        [
         "7",
         "0.04842105263157895"
        ],
        [
         "8",
         "0.042105263157894736"
        ],
        [
         "0",
         "0.03807017543859649"
        ],
        [
         "9",
         "0.033508771929824564"
        ],
        [
         "10",
         "0.022280701754385963"
        ],
        [
         "11",
         "0.009473684210526316"
        ],
        [
         "12",
         "0.009298245614035089"
        ],
        [
         "13",
         "0.004561403508771929"
        ],
        [
         "255",
         "0.0017543859649122807"
        ],
        [
         "14",
         "0.0017543859649122807"
        ],
        [
         "17",
         "0.0014035087719298245"
        ],
        [
         "15",
         "0.0012280701754385965"
        ],
        [
         "16",
         "0.0008771929824561404"
        ],
        [
         "254",
         "0.0008771929824561404"
        ],
        [
         "18",
         "0.0003508771929824561"
        ],
        [
         "21",
         "0.00017543859649122806"
        ],
        [
         "20",
         "0.00017543859649122806"
        ],
        [
         "19",
         "0.00017543859649122806"
        ]
       ],
       "shape": {
        "columns": 1,
        "rows": 24
       }
      },
      "text/plain": [
       "Iteraciones\n",
       "4      0.220351\n",
       "3      0.211404\n",
       "5      0.128421\n",
       "2      0.093158\n",
       "6      0.072456\n",
       "1      0.057719\n",
       "7      0.048421\n",
       "8      0.042105\n",
       "0      0.038070\n",
       "9      0.033509\n",
       "10     0.022281\n",
       "11     0.009474\n",
       "12     0.009298\n",
       "13     0.004561\n",
       "255    0.001754\n",
       "14     0.001754\n",
       "17     0.001404\n",
       "15     0.001228\n",
       "16     0.000877\n",
       "254    0.000877\n",
       "18     0.000351\n",
       "21     0.000175\n",
       "20     0.000175\n",
       "19     0.000175\n",
       "Name: proportion, dtype: float64"
      ]
     },
     "execution_count": 44,
     "metadata": {},
     "output_type": "execute_result"
    }
   ],
   "source": [
    "df[\"Iteraciones\"].value_counts(normalize=True)"
   ]
  },
  {
   "cell_type": "markdown",
   "id": "65705159",
   "metadata": {},
   "source": []
  },
  {
   "cell_type": "markdown",
   "id": "783e4121",
   "metadata": {},
   "source": []
  },
  {
   "cell_type": "markdown",
   "id": "1e7951b4",
   "metadata": {},
   "source": []
  }
 ],
 "metadata": {
  "kernelspec": {
   "display_name": "Python 3",
   "language": "python",
   "name": "python3"
  },
  "language_info": {
   "codemirror_mode": {
    "name": "ipython",
    "version": 3
   },
   "file_extension": ".py",
   "mimetype": "text/x-python",
   "name": "python",
   "nbconvert_exporter": "python",
   "pygments_lexer": "ipython3",
   "version": "3.11.9"
  }
 },
 "nbformat": 4,
 "nbformat_minor": 5
}
